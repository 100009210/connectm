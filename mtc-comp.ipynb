{
 "cells": [
  {
   "cell_type": "code",
   "execution_count": 1,
   "id": "b52757ff",
   "metadata": {
    "_cell_guid": "b1076dfc-b9ad-4769-8c92-a6c4dae69d19",
    "_uuid": "8f2839f25d086af736a60e9eeb907d3b93b6e0e5",
    "execution": {
     "iopub.execute_input": "2024-09-16T07:54:02.905259Z",
     "iopub.status.busy": "2024-09-16T07:54:02.904695Z",
     "iopub.status.idle": "2024-09-16T07:54:03.385529Z",
     "shell.execute_reply": "2024-09-16T07:54:03.384311Z"
    },
    "papermill": {
     "duration": 0.489624,
     "end_time": "2024-09-16T07:54:03.389303",
     "exception": false,
     "start_time": "2024-09-16T07:54:02.899679",
     "status": "completed"
    },
    "tags": []
   },
   "outputs": [
    {
     "name": "stdout",
     "output_type": "stream",
     "text": [
      "/kaggle/input/um-game-playing-strength-of-mcts-variants/sample_submission.csv\n",
      "/kaggle/input/um-game-playing-strength-of-mcts-variants/train.csv\n",
      "/kaggle/input/um-game-playing-strength-of-mcts-variants/test.csv\n",
      "/kaggle/input/um-game-playing-strength-of-mcts-variants/concepts.csv\n",
      "/kaggle/input/um-game-playing-strength-of-mcts-variants/kaggle_evaluation/mcts_gateway.py\n",
      "/kaggle/input/um-game-playing-strength-of-mcts-variants/kaggle_evaluation/__init__.py\n",
      "/kaggle/input/um-game-playing-strength-of-mcts-variants/kaggle_evaluation/mcts_inference_server.py\n",
      "/kaggle/input/um-game-playing-strength-of-mcts-variants/kaggle_evaluation/core/templates.py\n",
      "/kaggle/input/um-game-playing-strength-of-mcts-variants/kaggle_evaluation/core/base_gateway.py\n",
      "/kaggle/input/um-game-playing-strength-of-mcts-variants/kaggle_evaluation/core/relay.py\n",
      "/kaggle/input/um-game-playing-strength-of-mcts-variants/kaggle_evaluation/core/kaggle_evaluation.proto\n",
      "/kaggle/input/um-game-playing-strength-of-mcts-variants/kaggle_evaluation/core/__init__.py\n",
      "/kaggle/input/um-game-playing-strength-of-mcts-variants/kaggle_evaluation/core/generated/kaggle_evaluation_pb2.py\n",
      "/kaggle/input/um-game-playing-strength-of-mcts-variants/kaggle_evaluation/core/generated/kaggle_evaluation_pb2_grpc.py\n",
      "/kaggle/input/um-game-playing-strength-of-mcts-variants/kaggle_evaluation/core/generated/__init__.py\n"
     ]
    }
   ],
   "source": [
    "# This Python 3 environment comes with many helpful analytics libraries installed\n",
    "# It is defined by the kaggle/python Docker image: https://github.com/kaggle/docker-python\n",
    "# For example, here's several helpful packages to load\n",
    "\n",
    "import numpy as np # linear algebra\n",
    "import pandas as pd # data processing, CSV file I/O (e.g. pd.read_csv)\n",
    "\n",
    "# Input data files are available in the read-only \"../input/\" directory\n",
    "# For example, running this (by clicking run or pressing Shift+Enter) will list all files under the input directory\n",
    "\n",
    "import os\n",
    "for dirname, _, filenames in os.walk('/kaggle/input'):\n",
    "    for filename in filenames:\n",
    "        print(os.path.join(dirname, filename))\n",
    "\n",
    "# You can write up to 20GB to the current directory (/kaggle/working/) that gets preserved as output when you create a version using \"Save & Run All\" \n",
    "# You can also write temporary files to /kaggle/temp/, but they won't be saved outside of the current session"
   ]
  },
  {
   "cell_type": "code",
   "execution_count": 2,
   "id": "a71dc9b7",
   "metadata": {
    "execution": {
     "iopub.execute_input": "2024-09-16T07:54:03.399790Z",
     "iopub.status.busy": "2024-09-16T07:54:03.399175Z",
     "iopub.status.idle": "2024-09-16T07:54:03.408986Z",
     "shell.execute_reply": "2024-09-16T07:54:03.407541Z"
    },
    "papermill": {
     "duration": 0.016598,
     "end_time": "2024-09-16T07:54:03.411540",
     "exception": false,
     "start_time": "2024-09-16T07:54:03.394942",
     "status": "completed"
    },
    "tags": []
   },
   "outputs": [
    {
     "name": "stdout",
     "output_type": "stream",
     "text": [
      "Contents of /kaggle/input:\n",
      "um-game-playing-strength-of-mcts-variants\n",
      "\n",
      "Contents of /kaggle/input/um-game-playing-strength-of-mcts-variants:\n",
      "sample_submission.csv\n",
      "train.csv\n",
      "test.csv\n",
      "concepts.csv\n",
      "kaggle_evaluation\n"
     ]
    }
   ],
   "source": [
    "import os\n",
    "\n",
    "input_dir = '/kaggle/input'\n",
    "print(\"Contents of /kaggle/input:\")\n",
    "for item in os.listdir(input_dir):\n",
    "    print(item)\n",
    "\n",
    "if 'um-game-playing-strength-of-mcts-variants' in os.listdir(input_dir):\n",
    "    print(\"\\nContents of /kaggle/input/um-game-playing-strength-of-mcts-variants:\")\n",
    "    for item in os.listdir(os.path.join(input_dir, 'um-game-playing-strength-of-mcts-variants')):\n",
    "        print(item)\n",
    "else:\n",
    "    print(\"\\num-game-playing-strength-of-mcts-variants directory not found.\")"
   ]
  },
  {
   "cell_type": "code",
   "execution_count": 3,
   "id": "86c02cc3",
   "metadata": {
    "execution": {
     "iopub.execute_input": "2024-09-16T07:54:03.419394Z",
     "iopub.status.busy": "2024-09-16T07:54:03.418978Z",
     "iopub.status.idle": "2024-09-16T07:58:11.256360Z",
     "shell.execute_reply": "2024-09-16T07:58:11.253783Z"
    },
    "papermill": {
     "duration": 247.848299,
     "end_time": "2024-09-16T07:58:11.262726",
     "exception": false,
     "start_time": "2024-09-16T07:54:03.414427",
     "status": "completed"
    },
    "tags": []
   },
   "outputs": [],
   "source": [
    "import os\n",
    "import sys\n",
    "import polars as pl\n",
    "import numpy as np\n",
    "from sklearn.preprocessing import OrdinalEncoder, StandardScaler\n",
    "from sklearn.impute import SimpleImputer\n",
    "from sklearn.compose import ColumnTransformer\n",
    "from sklearn.pipeline import Pipeline\n",
    "from sklearn.feature_selection import VarianceThreshold\n",
    "from sklearn.ensemble import RandomForestRegressor\n",
    "from sklearn.decomposition import PCA\n",
    "from pathlib import Path\n",
    "\n",
    "# Try to import the Kaggle evaluation module, but don't fail if it's not available\n",
    "try:\n",
    "    import kaggle_evaluation.mcts_inference_server\n",
    "    KAGGLE_EVALUATION_AVAILABLE = True\n",
    "except ImportError:\n",
    "    KAGGLE_EVALUATION_AVAILABLE = False\n",
    "    print(\"Warning: kaggle_evaluation module not found. Running in development mode.\")\n",
    "\n",
    "# Set the path to your data files\n",
    "comp_path = Path('/kaggle/input/um-game-playing-strength-of-mcts-variants')\n",
    "target = 'utility_agent1'\n",
    "\n",
    "def engineer_features(df):\n",
    "    # Implement your feature engineering here\n",
    "    # This is a simplified version; you may want to add more complex feature engineering\n",
    "    \n",
    "    # Example: Create some interaction features\n",
    "    numeric_cols = df.select(pl.col(pl.Float64)).columns\n",
    "    for i, col1 in enumerate(numeric_cols):\n",
    "        for col2 in numeric_cols[i+1:]:\n",
    "            df = df.with_columns((pl.col(col1) * pl.col(col2)).alias(f\"{col1}_{col2}_interaction\"))\n",
    "    \n",
    "    return df\n",
    "\n",
    "def train_model():\n",
    "    global obj_cols, preprocessor, rf\n",
    "\n",
    "    train = pl.read_csv(comp_path / 'train.csv')\n",
    "    y_train = train[target]\n",
    "\n",
    "    cols_to_drop = ['num_draws_agent1', 'num_losses_agent1', 'num_wins_agent1', target, 'Id']\n",
    "    train = train.drop(cols_to_drop)\n",
    "    \n",
    "    obj_cols = train.select(pl.col(pl.String)).columns\n",
    "    num_cols = train.select(pl.col(pl.Float64)).columns\n",
    "    \n",
    "    preprocessor = ColumnTransformer(\n",
    "        transformers=[\n",
    "            (\"num\", StandardScaler(), num_cols),\n",
    "            (\"cat\", OrdinalEncoder(handle_unknown=\"use_encoded_value\", unknown_value=-1), obj_cols)\n",
    "        ])\n",
    "    \n",
    "    X_train = preprocessor.fit_transform(train.to_pandas())\n",
    "    \n",
    "    rf = RandomForestRegressor(n_estimators=100, max_depth=10, n_jobs=-1, random_state=42)\n",
    "    rf.fit(X_train, y_train)\n",
    "\n",
    "counter = 0\n",
    "def predict(test, submission):\n",
    "    global counter\n",
    "    if counter == 0:\n",
    "        train_model()\n",
    "    counter += 1\n",
    "    \n",
    "    test = test.drop(['Id'])\n",
    "    X_test = preprocessor.transform(test.to_pandas())\n",
    "    predictions = rf.predict(X_test)\n",
    "    \n",
    "    return submission.with_columns(pl.Series(target, predictions))\n",
    "# Main execution\n",
    "if KAGGLE_EVALUATION_AVAILABLE:\n",
    "    # Calling the gateway server\n",
    "    inference_server = kaggle_evaluation.mcts_inference_server.MCTSInferenceServer(predict)\n",
    "\n",
    "    if os.getenv('KAGGLE_IS_COMPETITION_RERUN'):\n",
    "        inference_server.serve()\n",
    "    else:\n",
    "        inference_server.run_local_gateway(\n",
    "            (\n",
    "                '/kaggle/input/um-game-playing-strength-of-mcts-variants/test.csv',\n",
    "                '/kaggle/input/um-game-playing-strength-of-mcts-variants/sample_submission.csv'\n",
    "            )\n",
    "        )\n",
    "else:\n",
    "    # Development mode: Train the model and make predictions on a sample of the test data\n",
    "    train_model()\n",
    "    \n",
    "    # Load a sample of the test data (adjust the number of rows as needed)\n",
    "    test_sample = pl.read_csv(comp_path / 'test.csv').sample(n=1000, seed=42)\n",
    "    submission_sample = pl.read_csv(comp_path / 'sample_submission.csv').sample(n=1000, seed=42)\n",
    "    \n",
    "    # Make predictions\n",
    "    result = predict(test_sample, submission_sample)\n",
    "    \n",
    "    print(\"Sample predictions:\")\n",
    "    print(result.head())\n",
    "\n",
    "    print(\"\\nModel training and sample prediction completed successfully.\")"
   ]
  }
 ],
 "metadata": {
  "kaggle": {
   "accelerator": "none",
   "dataSources": [
    {
     "databundleVersionId": 9515283,
     "sourceId": 70089,
     "sourceType": "competition"
    }
   ],
   "dockerImageVersionId": 30761,
   "isGpuEnabled": false,
   "isInternetEnabled": true,
   "language": "python",
   "sourceType": "notebook"
  },
  "kernelspec": {
   "display_name": "Python 3",
   "language": "python",
   "name": "python3"
  },
  "language_info": {
   "codemirror_mode": {
    "name": "ipython",
    "version": 3
   },
   "file_extension": ".py",
   "mimetype": "text/x-python",
   "name": "python",
   "nbconvert_exporter": "python",
   "pygments_lexer": "ipython3",
   "version": "3.10.14"
  },
  "papermill": {
   "default_parameters": {},
   "duration": 252.592037,
   "end_time": "2024-09-16T07:58:12.496692",
   "environment_variables": {},
   "exception": null,
   "input_path": "__notebook__.ipynb",
   "output_path": "__notebook__.ipynb",
   "parameters": {},
   "start_time": "2024-09-16T07:53:59.904655",
   "version": "2.6.0"
  }
 },
 "nbformat": 4,
 "nbformat_minor": 5
}
